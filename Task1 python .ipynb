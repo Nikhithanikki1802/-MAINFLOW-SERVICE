{
 "cells": [
  {
   "cell_type": "code",
   "execution_count": 48,
   "id": "c633c162-3aaf-4598-9b0e-2b2c57676d78",
   "metadata": {},
   "outputs": [
    {
     "name": "stdin",
     "output_type": "stream",
     "text": [
      "Enter the first number:  24\n",
      "Enter the second number:  35\n"
     ]
    },
    {
     "name": "stdout",
     "output_type": "stream",
     "text": [
      "The sum of the two numbers is: 59\n"
     ]
    }
   ],
   "source": [
    "#Sum of two numbers\n",
    "num1 = int(input(\"Enter the first number: \"))\n",
    "num2 = int(input(\"Enter the second number: \"))\n",
    "sum_of_numbers = num1 + num2\n",
    "\n",
    "print(\"The sum of the two numbers is:\", sum_of_numbers)"
   ]
  },
  {
   "cell_type": "code",
   "execution_count": 47,
   "id": "c930ecb2-f7b9-48a1-a19d-c7c08fdc2ad2",
   "metadata": {},
   "outputs": [
    {
     "name": "stdin",
     "output_type": "stream",
     "text": [
      "Enter any number: 22\n"
     ]
    },
    {
     "name": "stdout",
     "output_type": "stream",
     "text": [
      "Even number\n"
     ]
    }
   ],
   "source": [
    "# sum is even or odd\n",
    "a =  int(input(\"Enter any number:\"))\n",
    "if a % 2 == 0:\n",
    "    print(\"Even number\")\n",
    "else:\n",
    "    print(\"odd number\")"
   ]
  },
  {
   "cell_type": "code",
   "execution_count": 10,
   "id": "f50f8b0c-0a4f-49f5-af61-3a957063617b",
   "metadata": {},
   "outputs": [
    {
     "name": "stdin",
     "output_type": "stream",
     "text": [
      "Enter any number: 6\n"
     ]
    },
    {
     "name": "stdout",
     "output_type": "stream",
     "text": [
      "Factorial of 6 is 1\n",
      "Factorial of 6 is 2\n",
      "Factorial of 6 is 6\n",
      "Factorial of 6 is 24\n",
      "Factorial of 6 is 120\n",
      "Factorial of 6 is 720\n"
     ]
    }
   ],
   "source": [
    "#Factorial\n",
    "n = int(input(\"Enter any number:\"))\n",
    "fact = 1\n",
    "for i in range(1,n+1):\n",
    "    fact = fact*i\n",
    "    print(\"Factorial of\" ,n, \"is\" ,fact)\n",
    "    "
   ]
  },
  {
   "cell_type": "code",
   "execution_count": 11,
   "id": "9a04a3fe-d8ac-420d-8cfa-26e2c399a865",
   "metadata": {},
   "outputs": [
    {
     "name": "stdin",
     "output_type": "stream",
     "text": [
      "Enter n for how many times: 5\n"
     ]
    },
    {
     "name": "stdout",
     "output_type": "stream",
     "text": [
      "0   1     8 "
     ]
    }
   ],
   "source": [
    "#Fibonacci series\n",
    "a = 0\n",
    "b = 1\n",
    "n = int(input(\"Enter n for how many times:\"))\n",
    "print(a, \" \",b,\" \",end=\" \")\n",
    "for i in range(n):\n",
    "    c = a + b\n",
    "    a = b\n",
    "    b = c\n",
    "print(\" \",c,end=\" \")"
   ]
  },
  {
   "cell_type": "code",
   "execution_count": 12,
   "id": "c7355a77-f770-418a-8395-f3e1d70536d6",
   "metadata": {},
   "outputs": [
    {
     "name": "stdout",
     "output_type": "stream",
     "text": [
      "TNEDUTS YM\n"
     ]
    }
   ],
   "source": [
    "#Reverse string\n",
    "string = \"MY STUDENT\"\n",
    "reversed_string = string[::-1]\n",
    "print(reversed_string)\n"
   ]
  },
  {
   "cell_type": "code",
   "execution_count": 21,
   "id": "e01aed97-e905-4ee3-9544-f93016373e36",
   "metadata": {},
   "outputs": [
    {
     "name": "stdin",
     "output_type": "stream",
     "text": [
      "Enter any number: 232\n"
     ]
    },
    {
     "name": "stdout",
     "output_type": "stream",
     "text": [
      "Palindrome number\n"
     ]
    }
   ],
   "source": [
    "#Palindrome\n",
    "n = int(input(\"Enter any number:\"))\n",
    "temp = n\n",
    "rev = 0\n",
    "while(n>0):\n",
    "    a = n % 10\n",
    "    rev = rev * 10 + a\n",
    "    n = n // 10\n",
    "if(temp == rev):\n",
    "    print(\"Palindrome number\")\n",
    "else:\n",
    "    print(\"Not a Palindrome number\")\n",
    "    "
   ]
  },
  {
   "cell_type": "code",
   "execution_count": 22,
   "id": "ca306a49-c337-4f78-941d-163f99f362d3",
   "metadata": {},
   "outputs": [
    {
     "name": "stdin",
     "output_type": "stream",
     "text": [
      "Enter any year: 2000\n"
     ]
    },
    {
     "name": "stdout",
     "output_type": "stream",
     "text": [
      "Leap year\n"
     ]
    }
   ],
   "source": [
    "#leap year\n",
    "year = int(input(\"Enter any year:\"))\n",
    "if(year % 4 == 0 and year % 100 != 0) or (year % 400 == 0):\n",
    "    print(\"Leap year\")\n",
    "else:\n",
    "    print(\"Not a Leap year\")\n",
    "    "
   ]
  },
  {
   "cell_type": "code",
   "execution_count": 41,
   "id": "7a20555b-8cb5-4407-b443-579e778d16ea",
   "metadata": {},
   "outputs": [
    {
     "name": "stdin",
     "output_type": "stream",
     "text": [
      "Enter any number: 153\n"
     ]
    },
    {
     "name": "stdout",
     "output_type": "stream",
     "text": [
      "Amstrong number\n"
     ]
    }
   ],
   "source": [
    "#Amstrong number\n",
    "n =int(input(\"Enter any number:\"))\n",
    "temp = n\n",
    "b = 0\n",
    "while(n > 0):\n",
    "    s = n % 10\n",
    "    b = b + s * s * s\n",
    "    n = n // 10\n",
    "if(temp == b):\n",
    "    print(\"Amstrong number\")\n",
    "else:\n",
    "    print(\"Not Amstrong number\")\n",
    "    "
   ]
  },
  {
   "cell_type": "code",
   "execution_count": 44,
   "id": "e3cf5adf-152b-4447-a818-5f593877a74f",
   "metadata": {},
   "outputs": [
    {
     "name": "stdin",
     "output_type": "stream",
     "text": [
      "Enter the message to encrypt:  Hii, Nikki\n",
      "Enter encryption key (integer):  3\n"
     ]
    },
    {
     "name": "stdout",
     "output_type": "stream",
     "text": [
      "Encrypted Message: Kll, Qlnnl\n",
      "Decrypted Message: Hii, Nikki\n"
     ]
    }
   ],
   "source": [
    "def custom_encrypt(message, key):\n",
    "    encrypted = \"\"\n",
    "    for char in message:\n",
    "        if char.isalpha():\n",
    "            shift = key % 26\n",
    "            base = ord('A') if char.isupper() else ord('a')\n",
    "            encrypted += chr((ord(char) - base + shift) % 26 + base)\n",
    "        else:\n",
    "            encrypted += char\n",
    "    return encrypted\n",
    "\n",
    "def custom_decrypt(encrypted_message, key):\n",
    "    decrypted = \"\"\n",
    "    for char in encrypted_message:\n",
    "        if char.isalpha():\n",
    "            shift = key % 26\n",
    "            base = ord('A') if char.isupper() else ord('a')\n",
    "            decrypted += chr((ord(char) - base - shift) % 26 + base)\n",
    "        else:\n",
    "            decrypted += char\n",
    "    return decrypted\n",
    "\n",
    "# Example usage\n",
    "message = input(\"Enter the message to encrypt: \")\n",
    "key = int(input(\"Enter encryption key (integer): \"))\n",
    "encrypted_message = custom_encrypt(message, key)\n",
    "print(f\"Encrypted Message: {encrypted_message}\")\n",
    "\n",
    "decrypted_message = custom_decrypt(encrypted_message, key)\n",
    "print(f\"Decrypted Message: {decrypted_message}\")\n",
    "\n",
    "\n"
   ]
  }
 ],
 "metadata": {
  "kernelspec": {
   "display_name": "Python 3 (ipykernel)",
   "language": "python",
   "name": "python3"
  },
  "language_info": {
   "codemirror_mode": {
    "name": "ipython",
    "version": 3
   },
   "file_extension": ".py",
   "mimetype": "text/x-python",
   "name": "python",
   "nbconvert_exporter": "python",
   "pygments_lexer": "ipython3",
   "version": "3.12.4"
  }
 },
 "nbformat": 4,
 "nbformat_minor": 5
}
